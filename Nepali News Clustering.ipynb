{
 "cells": [
  {
   "cell_type": "code",
   "execution_count": 1,
   "metadata": {},
   "outputs": [],
   "source": [
    "import warnings\n",
    "warnings.filterwarnings('ignore')"
   ]
  },
  {
   "cell_type": "code",
   "execution_count": 2,
   "metadata": {},
   "outputs": [],
   "source": [
    "from np_lang.stem.itrstem import IterativeStemmer\n",
    "from nltk.corpus import stopwords\n",
    "import pandas as pd\n",
    "from np_lang.tokenize.tokenizer import Tokenizer\n",
    "from gensim import models\n",
    "import multiprocessing"
   ]
  },
  {
   "cell_type": "code",
   "execution_count": 3,
   "metadata": {},
   "outputs": [],
   "source": [
    "swNepali = stopwords.words(\"nepali\")\n",
    "nepali_stemmer = IterativeStemmer()"
   ]
  },
  {
   "cell_type": "code",
   "execution_count": 4,
   "metadata": {},
   "outputs": [],
   "source": [
    "df = pd.read_csv(\"data.csv\")\n",
    "df2 = pd.read_csv(\"goodNewsData\")\n",
    "df = df.dropna()\n",
    "df2 = df2.dropna()\n",
    "title = df['News title'].values.tolist()\n",
    "article = df['News article'].values.tolist()\n",
    "corpus2 = df2['noStopWords'].values.tolist()\n",
    "corpus = title + article + corpus2"
   ]
  },
  {
   "cell_type": "code",
   "execution_count": 5,
   "metadata": {},
   "outputs": [
    {
     "name": "stdout",
     "output_type": "stream",
     "text": [
      "[['ग्रिन', 'टी', 'उत्पादन', 'घट्यो'], ['जलेश्वर', 'नगरपालिका', 'झाडापखाला', 'प्रकोप', 'बालिका', 'मृत्यु'], ['निर्माण', 'व्यवसायी', 'कार्टेलिङ', 'अस्वीकार्यः', 'प्रधानमन्त्री'], ['मोरङ', 'अपराधिक', 'घटना', 'सूचना', 'संकलन', 'मोवाइल', 'एपबाटै'], ['सीके', 'राउत', 'छलफल', 'भयो', 'लाइन', 'मिलेनः', 'महन्थ', 'ठाकुर'], ['भ्रष्टाचारी', 'सिधै', 'सेवाग्राही', 'पैसा', 'लिन', 'छाडेः', 'नवीन', 'घिमिरे'], ['लाख', 'घुससहित', 'वीरगञ्ज', 'महानगर', 'अधिकृतसहित', 'तीनजना', 'पक्राउ'], ['बाचा', 'तोड्दै', 'साउदी', 'अरब', 'पुगे', 'पाकिस्तानी', 'प्रधानमन्त्री'], ['सुनसरी', 'गोली', 'प्रहार', 'शिक्षक', 'हत्या', 'प्रहरी', 'घाइते'], ['फिल्म', 'निर्माण', 'समीक्षाः', 'निर्देशक', 'ज्यू', 'नाई', 'नभन्नु', 'ल'], ['नागढुंगा-धुलिखेल', 'मेट्रो', 'सम्भाब्यता', 'अध्ययन', '६', 'कम्पनी', 'सर्ट', 'लिस्ट'], ['चिनी', 'आयात', 'अंकुशः', 'नियत', 'प्रभाव'], ['नेपाल', 'चीन', 'छुट्टिनै', 'नसकि', 'जोडिए', 'छन्ः', 'उपराष्टपति', 'पुन'], ['अख्तियार', 'प्रमुख', 'सिफारिस', 'घिमिरे', 'सुनुवाइ', 'आज'], ['जलेश्वर', 'कारागार', 'कैदी', 'उपचार', 'क्रम', 'मृत्यु'], ['कास्की', 'बन्', 'भाे', 'फुटबल', 'एकेडेमी', '९०', 'किशोर', 'आवासीय', 'प्रशिक्षण'], ['अन्तर्राष्ट्रिय', 'बी', 'सम्मेलन', 'तयारी', 'तीव्र', '२०', 'राष्ट्र', 'सहभागी'], ['लखेटी-लखेटी', 'महतो', 'हत्या', '५', 'जना', 'पक्राउ'], ['ढुवानीकर्ता', 'फेरि', 'बोक्न', 'छाडे', 'इन्धन', 'सम्झौता', 'रद्द', 'निगम', 'चेतावनी'], ['मुलुकी', 'संहिता', 'विरोध', 'सार्वजनिक', 'यातायात', 'हडताल']]\n"
     ]
    }
   ],
   "source": [
    "tokenized = [Tokenizer().word_tokenize(x) for x in corpus]\n",
    "sabdajanjal = list()\n",
    "for j in tokenized:\n",
    "    wakya = [nepali_stemmer.stem(x) for x in j if x not in swNepali]\n",
    "    sabdajanjal.append(wakya)\n",
    "print(sabdajanjal[0:20])"
   ]
  },
  {
   "cell_type": "code",
   "execution_count": 6,
   "metadata": {},
   "outputs": [],
   "source": [
    "model = models.Word2Vec(sabdajanjal, min_count = 10, size = 100, window = 10, seed = 5, \n",
    "                        workers = multiprocessing.cpu_count())"
   ]
  },
  {
   "cell_type": "code",
   "execution_count": 7,
   "metadata": {},
   "outputs": [
    {
     "data": {
      "text/plain": [
       "[('निमार्ण', 0.7794307470321655),\n",
       " ('स्तरोन्नती', 0.6280551552772522),\n",
       " ('निर्माणलगायत', 0.6209395527839661),\n",
       " ('निर्माणाधीन', 0.6100929379463196),\n",
       " ('स्तरोन्नति', 0.6056343913078308),\n",
       " ('परियोजना', 0.5951948165893555),\n",
       " ('डीपीआर', 0.5727310180664062),\n",
       " ('अधिग्रहण', 0.5700404644012451),\n",
       " ('निर्माणकार्य', 0.5628713965415955),\n",
       " ('चक्रपथ', 0.5612333416938782)]"
      ]
     },
     "execution_count": 7,
     "metadata": {},
     "output_type": "execute_result"
    }
   ],
   "source": [
    "model.most_similar(\"निर्माण\")"
   ]
  },
  {
   "cell_type": "code",
   "execution_count": 8,
   "metadata": {},
   "outputs": [
    {
     "data": {
      "text/plain": [
       "[('प्रधानाध्यापक', 0.7729374170303345),\n",
       " ('पठनपाठन', 0.7701078653335571),\n",
       " ('विद्यालय', 0.7606285810470581),\n",
       " ('पाठ्यपुस्तक', 0.7516130805015564),\n",
       " ('बिद्यालय', 0.7299374341964722),\n",
       " ('विद्यार्थी', 0.7266348004341125),\n",
       " ('अभिभावक', 0.7192495465278625),\n",
       " ('शैक्षिक', 0.705650806427002),\n",
       " ('सिकाइ', 0.6924096345901489),\n",
       " ('पढाउ', 0.689007580280304)]"
      ]
     },
     "execution_count": 8,
     "metadata": {},
     "output_type": "execute_result"
    }
   ],
   "source": [
    "model.most_similar(\"शिक्षक\")"
   ]
  },
  {
   "cell_type": "code",
   "execution_count": 9,
   "metadata": {},
   "outputs": [
    {
     "data": {
      "text/plain": [
       "[('लिसेस्टर', 0.9668924808502197),\n",
       " ('आर्सनल', 0.9615909457206726),\n",
       " ('युभेन्टस', 0.9522958397865295),\n",
       " ('बोरुसिया', 0.9514557719230652),\n",
       " ('बार्यन', 0.950508713722229),\n",
       " ('टोटनह्याम', 0.9501062631607056),\n",
       " ('एथ्लेटि', 0.9429118037223816),\n",
       " ('मड्रिड', 0.9392573833465576),\n",
       " ('म्यानचेस्टर', 0.9385230541229248),\n",
       " ('लेग', 0.9348961114883423)]"
      ]
     },
     "execution_count": 9,
     "metadata": {},
     "output_type": "execute_result"
    }
   ],
   "source": [
    "model.most_similar(\"लिभरपुल\")"
   ]
  },
  {
   "cell_type": "code",
   "execution_count": 10,
   "metadata": {},
   "outputs": [],
   "source": [
    "wakya1 = \"प्रदेश २ का मन्त्री यादवले कार्यकक्षमै सचिव कुटे, मन्त्री भन्छन्– सचिव ‘छाडा’ भए\" #barakhari \n",
    "wakya2 = \"प्रदेश २ का मन्त्रीले कुटे सचिव\" #kantipur\n",
    "wakya3 = \"लिभरपुलको कठिन जितमा सलाहको गोल\" #online khabar\n",
    "wakya4 = \"सलाहको गोलमा लिभरपुलको जित\" #nagarik"
   ]
  },
  {
   "cell_type": "code",
   "execution_count": 11,
   "metadata": {},
   "outputs": [
    {
     "name": "stdout",
     "output_type": "stream",
     "text": [
      "['प्रदेश', '२', '', 'मन्त्री', 'यादव', 'कार्यकक्ष', 'सचिव', 'कुटे', 'मन्त्री', 'भन्छन्–', 'सचिव', 'छाडा', 'भए']\n"
     ]
    }
   ],
   "source": [
    "def preprocesstext(wakya):\n",
    "    tokens = Tokenizer().word_tokenize(wakya)\n",
    "    return [IterativeStemmer().stem(x) for x in tokens]\n",
    "\n",
    "print(preprocesstext(wakya1))"
   ]
  },
  {
   "cell_type": "code",
   "execution_count": 12,
   "metadata": {},
   "outputs": [
    {
     "name": "stdout",
     "output_type": "stream",
     "text": [
      "similar  6.236688947030913\n",
      "dissimilar  20.52121190887862\n",
      "similar  4.548844945619232\n"
     ]
    }
   ],
   "source": [
    "print(\"similar \",model.wmdistance(preprocesstext(wakya1),preprocesstext(wakya2)))\n",
    "print(\"dissimilar \",model.wmdistance(preprocesstext(wakya1),preprocesstext(wakya3)))\n",
    "print(\"similar \",model.wmdistance(preprocesstext(wakya4),preprocesstext(wakya3)))"
   ]
  },
  {
   "cell_type": "code",
   "execution_count": 35,
   "metadata": {},
   "outputs": [],
   "source": [
    "model.wv.save(\"modellite\")"
   ]
  },
  {
   "cell_type": "code",
   "execution_count": 36,
   "metadata": {},
   "outputs": [],
   "source": [
    "modellite = models.KeyedVectors.load(\"modellite\")"
   ]
  },
  {
   "cell_type": "code",
   "execution_count": 37,
   "metadata": {},
   "outputs": [],
   "source": [
    "def findsimmilarnews(title, threshold):\n",
    "    result = list()\n",
    "    df = pd.read_csv(\"online_khabar.txt\")\n",
    "    title_list = df['news title'].values.tolist()\n",
    "    for testtile in title_list:\n",
    "        difference = modellite.wmdistance(preprocesstext(title), preprocesstext(testtile))\n",
    "        if difference < threshold:\n",
    "            result.append((difference, testtile))\n",
    "    return sorted(result)"
   ]
  },
  {
   "cell_type": "code",
   "execution_count": 39,
   "metadata": {},
   "outputs": [
    {
     "name": "stdout",
     "output_type": "stream",
     "text": [
      "Similar to :-  डा. केसीको जीवन रक्षाको चिन्ता\n",
      "7.0995276902069095 डा. केसीलाई तत्काल आईसीयूमा राख्नुपर्ने\n",
      "7.450301341925431 डा. केसीलाई योगेशको जवाफः तपाईले आफ्नै स्तर गिराउनुभयो\n",
      "7.6447346246091845 न्यायालयको दलीयकरण सुशासनको बाधकः डा. केसी\n",
      "8.105294407506179 इलाम नै किन रोजे डा. गोविन्द केसीले ?\n",
      "9.16447758137032 डा. गोविन्द केसीको जित भएकै हो त ?\n",
      "9.643921682985672 इलामबाट डा. केसीलाई तत्काल सार्नुपर्ने अवस्था\n",
      "9.771310404493912 सुईबाट एन्टिबायोटिक लिन राजी भए डा. केसी\n",
      "9.874740493224516 अनसन बस्न डा. गोविन्द केसी इलाममा\n",
      "9.913217428158186 डा. केसीको जीवन रक्षाको पहल गर्न चिकित्सक संघको आग्रह\n"
     ]
    }
   ],
   "source": [
    "testwakya = \"डा. केसीको जीवन रक्षाको चिन्ता\"\n",
    "print(\"Similar to :- \", testwakya)\n",
    "result = findsimmilarnews(testwakya, 10)\n",
    "for r in result:\n",
    "    print(r[0], r[1])"
   ]
  },
  {
   "cell_type": "code",
   "execution_count": null,
   "metadata": {},
   "outputs": [],
   "source": []
  }
 ],
 "metadata": {
  "kernelspec": {
   "display_name": "Python 3",
   "language": "python",
   "name": "python3"
  },
  "language_info": {
   "codemirror_mode": {
    "name": "ipython",
    "version": 3
   },
   "file_extension": ".py",
   "mimetype": "text/x-python",
   "name": "python",
   "nbconvert_exporter": "python",
   "pygments_lexer": "ipython3",
   "version": "3.7.1"
  }
 },
 "nbformat": 4,
 "nbformat_minor": 2
}
