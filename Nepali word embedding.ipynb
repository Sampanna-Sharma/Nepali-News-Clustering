{
 "cells": [
  {
   "cell_type": "code",
   "execution_count": 1,
   "metadata": {},
   "outputs": [],
   "source": [
    "import warnings\n",
    "warnings.filterwarnings('ignore')"
   ]
  },
  {
   "cell_type": "code",
   "execution_count": 8,
   "metadata": {},
   "outputs": [],
   "source": [
    "from np_lang.stem.itrstem import IterativeStemmer\n",
    "from nltk.corpus import stopwords\n",
    "import pandas as pd\n",
    "from np_lang.tokenize.tokenizer import Tokenizer\n",
    "from gensim import models\n",
    "import multiprocessing"
   ]
  },
  {
   "cell_type": "code",
   "execution_count": 3,
   "metadata": {},
   "outputs": [],
   "source": [
    "swNepali = stopwords.words(\"nepali\")\n",
    "nepali_stemmer = IterativeStemmer()"
   ]
  },
  {
   "cell_type": "code",
   "execution_count": 4,
   "metadata": {},
   "outputs": [],
   "source": [
    "df = pd.read_csv(\"data.csv\")\n",
    "df2 = pd.read_csv(\"goodNewsData\")\n",
    "df = df.dropna()\n",
    "df2 = df2.dropna()\n",
    "title = df['News title'].values.tolist()\n",
    "article = df['News article'].values.tolist()\n",
    "corpus2 = df2['noStopWords'].values.tolist()\n",
    "corpus = title + article + corpus2"
   ]
  },
  {
   "cell_type": "code",
   "execution_count": 5,
   "metadata": {},
   "outputs": [
    {
     "name": "stdout",
     "output_type": "stream",
     "text": [
      "[['ग्रिन', 'टी', 'उत्पादन', 'घट्यो'], ['जलेश्वर', 'नगरपालिका', 'झाडापखाला', 'प्रकोप', 'बालिका', 'मृत्यु'], ['निर्माण', 'व्यवसायी', 'कार्टेलिङ', 'अस्वीकार्यः', 'प्रधानमन्त्री'], ['मोरङ', 'अपराधिक', 'घटना', 'सूचना', 'संकलन', 'मोवाइल', 'एपबाटै'], ['सीके', 'राउत', 'छलफल', 'भयो', 'लाइन', 'मिलेनः', 'महन्थ', 'ठाकुर'], ['भ्रष्टाचारी', 'सिधै', 'सेवाग्राही', 'पैसा', 'लिन', 'छाडेः', 'नवीन', 'घिमिरे'], ['लाख', 'घुससहित', 'वीरगञ्ज', 'महानगर', 'अधिकृतसहित', 'तीनजना', 'पक्राउ'], ['बाचा', 'तोड्दै', 'साउदी', 'अरब', 'पुगे', 'पाकिस्तानी', 'प्रधानमन्त्री'], ['सुनसरी', 'गोली', 'प्रहार', 'शिक्षक', 'हत्या', 'प्रहरी', 'घाइते'], ['फिल्म', 'निर्माण', 'समीक्षाः', 'निर्देशक', 'ज्यू', 'नाई', 'नभन्नु', 'ल'], ['नागढुंगा-धुलिखेल', 'मेट्रो', 'सम्भाब्यता', 'अध्ययन', '६', 'कम्पनी', 'सर्ट', 'लिस्ट'], ['चिनी', 'आयात', 'अंकुशः', 'नियत', 'प्रभाव'], ['नेपाल', 'चीन', 'छुट्टिनै', 'नसकि', 'जोडिए', 'छन्ः', 'उपराष्टपति', 'पुन'], ['अख्तियार', 'प्रमुख', 'सिफारिस', 'घिमिरे', 'सुनुवाइ', 'आज'], ['जलेश्वर', 'कारागार', 'कैदी', 'उपचार', 'क्रम', 'मृत्यु'], ['कास्की', 'बन्', 'भाे', 'फुटबल', 'एकेडेमी', '९०', 'किशोर', 'आवासीय', 'प्रशिक्षण'], ['अन्तर्राष्ट्रिय', 'बी', 'सम्मेलन', 'तयारी', 'तीव्र', '२०', 'राष्ट्र', 'सहभागी'], ['लखेटी-लखेटी', 'महतो', 'हत्या', '५', 'जना', 'पक्राउ'], ['ढुवानीकर्ता', 'फेरि', 'बोक्न', 'छाडे', 'इन्धन', 'सम्झौता', 'रद्द', 'निगम', 'चेतावनी'], ['मुलुकी', 'संहिता', 'विरोध', 'सार्वजनिक', 'यातायात', 'हडताल']]\n"
     ]
    }
   ],
   "source": [
    "tokenized = [Tokenizer().word_tokenize(x) for x in corpus]\n",
    "sabdajanjal = list()\n",
    "for j in tokenized:\n",
    "    wakya = [nepali_stemmer.stem(x) for x in j if x not in swNepali]\n",
    "    sabdajanjal.append(wakya)\n",
    "print(sabdajanjal[0:20])"
   ]
  },
  {
   "cell_type": "code",
   "execution_count": 9,
   "metadata": {},
   "outputs": [],
   "source": [
    "model = models.Word2Vec(sabdajanjal, min_count = 10, size = 100, window = 10, seed = 5, \n",
    "                        workers = multiprocessing.cpu_count())"
   ]
  },
  {
   "cell_type": "code",
   "execution_count": 10,
   "metadata": {},
   "outputs": [
    {
     "data": {
      "text/plain": [
       "[('निमार्ण', 0.7887885570526123),\n",
       " ('निर्माणाधीन', 0.6127191781997681),\n",
       " ('परियोजना', 0.5994905233383179),\n",
       " ('स्तरोन्नती', 0.5965201258659363),\n",
       " ('स्तरोन्नति', 0.5839791297912598),\n",
       " ('ठेक्', 0.5668432712554932),\n",
       " ('स्टिमेट', 0.5646187663078308),\n",
       " ('डीपीआर', 0.5560708045959473),\n",
       " ('अधिग्रहण', 0.5551959872245789),\n",
       " ('निर्माणकार्य', 0.5501481890678406)]"
      ]
     },
     "execution_count": 10,
     "metadata": {},
     "output_type": "execute_result"
    }
   ],
   "source": [
    "model.most_similar(\"निर्माण\")"
   ]
  },
  {
   "cell_type": "code",
   "execution_count": 11,
   "metadata": {},
   "outputs": [
    {
     "data": {
      "text/plain": [
       "[('प्रधानाध्यापक', 0.7665473222732544),\n",
       " ('पाठ्यपुस्तक', 0.7468210458755493),\n",
       " ('विद्यालय', 0.7417024374008179),\n",
       " ('बिद्यालय', 0.7349083423614502),\n",
       " ('पठनपाठन', 0.733465850353241),\n",
       " ('विद्यार्थी', 0.7131118774414062),\n",
       " ('अभिभावक', 0.7121032476425171),\n",
       " ('शैक्षिक', 0.71071857213974),\n",
       " ('प्रावि', 0.7097187042236328),\n",
       " ('परिक्षा', 0.6868906617164612)]"
      ]
     },
     "execution_count": 11,
     "metadata": {},
     "output_type": "execute_result"
    }
   ],
   "source": [
    "model.most_similar(\"शिक्षक\")"
   ]
  },
  {
   "cell_type": "code",
   "execution_count": 12,
   "metadata": {},
   "outputs": [
    {
     "data": {
      "text/plain": [
       "[('बार्यन', 0.9679754972457886),\n",
       " ('आर्सनल', 0.9645389914512634),\n",
       " ('लिसेस्टर', 0.9596000909805298),\n",
       " ('एथ्लेटि', 0.9559378623962402),\n",
       " ('युभेन्टस', 0.9525337815284729),\n",
       " ('बोरुसिया', 0.9462994337081909),\n",
       " ('म्यानचेस्टर', 0.9426657557487488),\n",
       " ('मड्रिड', 0.9423710703849792),\n",
       " ('लेग', 0.9388246536254883),\n",
       " ('म्युनिख', 0.9352389574050903)]"
      ]
     },
     "execution_count": 12,
     "metadata": {},
     "output_type": "execute_result"
    }
   ],
   "source": [
    "model.most_similar(\"लिभरपुल\")"
   ]
  },
  {
   "cell_type": "code",
   "execution_count": 13,
   "metadata": {},
   "outputs": [],
   "source": [
    "wakya1 = \"प्रदेश २ का मन्त्री यादवले कार्यकक्षमै सचिव कुटे, मन्त्री भन्छन्– सचिव ‘छाडा’ भए\" #barakhari \n",
    "wakya2 = \"प्रदेश २ का मन्त्रीले कुटे सचिव\" #kantipur\n",
    "wakya3 = \"लिभरपुलको कठिन जितमा सलाहको गोल\" #online khabar\n",
    "wakya4 = \"सलाहको गोलमा लिभरपुलको जित\" #nagarik"
   ]
  },
  {
   "cell_type": "code",
   "execution_count": 14,
   "metadata": {},
   "outputs": [
    {
     "name": "stdout",
     "output_type": "stream",
     "text": [
      "['प्रदेश', '२', '', 'मन्त्री', 'यादव', 'कार्यकक्ष', 'सचिव', 'कुटे', 'मन्त्री', 'भन्छन्–', 'सचिव', 'छाडा', 'भए']\n"
     ]
    }
   ],
   "source": [
    "def preprocesstext(wakya):\n",
    "    tokens = Tokenizer().word_tokenize(wakya)\n",
    "    return [IterativeStemmer().stem(x) for x in tokens]\n",
    "\n",
    "print(preprocesstext(wakya1))"
   ]
  },
  {
   "cell_type": "code",
   "execution_count": 15,
   "metadata": {},
   "outputs": [
    {
     "name": "stdout",
     "output_type": "stream",
     "text": [
      "similar  6.228863188919338\n",
      "dissimilar  20.764305301905008\n",
      "similar  4.651514415280128\n"
     ]
    }
   ],
   "source": [
    "print(\"similar \",model.wmdistance(preprocesstext(wakya1),preprocesstext(wakya2)))\n",
    "print(\"dissimilar \",model.wmdistance(preprocesstext(wakya1),preprocesstext(wakya3)))\n",
    "print(\"similar \",model.wmdistance(preprocesstext(wakya4),preprocesstext(wakya3)))"
   ]
  },
  {
   "cell_type": "code",
   "execution_count": null,
   "metadata": {},
   "outputs": [],
   "source": []
  }
 ],
 "metadata": {
  "kernelspec": {
   "display_name": "Python 3",
   "language": "python",
   "name": "python3"
  },
  "language_info": {
   "codemirror_mode": {
    "name": "ipython",
    "version": 3
   },
   "file_extension": ".py",
   "mimetype": "text/x-python",
   "name": "python",
   "nbconvert_exporter": "python",
   "pygments_lexer": "ipython3",
   "version": "3.7.1"
  }
 },
 "nbformat": 4,
 "nbformat_minor": 2
}
