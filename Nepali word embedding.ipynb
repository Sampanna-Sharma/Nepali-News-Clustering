{
 "cells": [
  {
   "cell_type": "code",
   "execution_count": 69,
   "metadata": {},
   "outputs": [],
   "source": [
    "import warnings\n",
    "warnings.filterwarnings('ignore')"
   ]
  },
  {
   "cell_type": "code",
   "execution_count": 20,
   "metadata": {},
   "outputs": [],
   "source": [
    "from np_lang.stem.itrstem import IterativeStemmer\n",
    "from nltk.corpus import stopwords\n",
    "import pandas as pd\n",
    "from np_lang.tokenize.tokenizer import Tokenizer\n",
    "from gensim import models"
   ]
  },
  {
   "cell_type": "code",
   "execution_count": 2,
   "metadata": {},
   "outputs": [],
   "source": [
    "swNepali = stopwords.words(\"nepali\")\n",
    "nepali_stemmer = IterativeStemmer()"
   ]
  },
  {
   "cell_type": "code",
   "execution_count": 52,
   "metadata": {},
   "outputs": [],
   "source": [
    "df = pd.read_csv(\"data.csv\")\n",
    "df = df.dropna()\n",
    "title = df['News title'].values.tolist()\n",
    "article = df['News article'].values.tolist()\n",
    "corpus = title + article"
   ]
  },
  {
   "cell_type": "code",
   "execution_count": 65,
   "metadata": {},
   "outputs": [
    {
     "name": "stdout",
     "output_type": "stream",
     "text": [
      "[['ग्रिन', 'टी', 'उत्पादन', 'घट्यो'], ['जलेश्वर', 'नगरपालिका', 'झाडापखाला', 'प्रकोप', 'बालिका', 'मृत्यु'], ['निर्माण', 'व्यवसायी', 'कार्टेलिङ', 'अस्वीकार्यः', 'प्रधानमन्त्री'], ['मोरङ', 'अपराधिक', 'घटना', 'सूचना', 'संकलन', 'मोवाइल', 'एपबाटै'], ['सीके', 'राउत', 'छलफल', 'भयो', 'लाइन', 'मिलेनः', 'महन्थ', 'ठाकुर'], ['भ्रष्टाचारी', 'सिधै', 'सेवाग्राही', 'पैसा', 'लिन', 'छाडेः', 'नवीन', 'घिमिरे'], ['लाख', 'घुससहित', 'वीरगञ्ज', 'महानगर', 'अधिकृतसहित', 'तीनजना', 'पक्राउ'], ['बाचा', 'तोड्दै', 'साउदी', 'अरब', 'पुगे', 'पाकिस्तानी', 'प्रधानमन्त्री'], ['सुनसरी', 'गोली', 'प्रहार', 'शिक्षक', 'हत्या', 'प्रहरी', 'घाइते'], ['फिल्म', 'निर्माण', 'समीक्षाः', 'निर्देशक', 'ज्यू', 'नाई', 'नभन्नु', 'ल'], ['नागढुंगा-धुलिखेल', 'मेट्रो', 'सम्भाब्यता', 'अध्ययन', '६', 'कम्पनी', 'सर्ट', 'लिस्ट'], ['चिनी', 'आयात', 'अंकुशः', 'नियत', 'प्रभाव'], ['नेपाल', 'चीन', 'छुट्टिनै', 'नसकि', 'जोडिए', 'छन्ः', 'उपराष्टपति', 'पुन'], ['अख्तियार', 'प्रमुख', 'सिफारिस', 'घिमिरे', 'सुनुवाइ', 'आज'], ['जलेश्वर', 'कारागार', 'कैदी', 'उपचार', 'क्रम', 'मृत्यु'], ['कास्की', 'बन्', 'भाे', 'फुटबल', 'एकेडेमी', '९०', 'किशोर', 'आवासीय', 'प्रशिक्षण'], ['अन्तर्राष्ट्रिय', 'बी', 'सम्मेलन', 'तयारी', 'तीव्र', '२०', 'राष्ट्र', 'सहभागी'], ['लखेटी-लखेटी', 'महतो', 'हत्या', '५', 'जना', 'पक्राउ'], ['ढुवानीकर्ता', 'फेरि', 'बोक्न', 'छाडे', 'इन्धन', 'सम्झौता', 'रद्द', 'निगम', 'चेतावनी'], ['मुलुकी', 'संहिता', 'विरोध', 'सार्वजनिक', 'यातायात', 'हडताल']]\n"
     ]
    }
   ],
   "source": [
    "tokenized = [Tokenizer().word_tokenize(x) for x in corpus]\n",
    "sabdajanjal = list()\n",
    "for j in tokenized:\n",
    "    wakya = [nepali_stemmer.stem(x) for x in j if x not in swNepali]\n",
    "    sabdajanjal.append(wakya)\n",
    "print(sabdajanjal[0:20])"
   ]
  },
  {
   "cell_type": "code",
   "execution_count": 66,
   "metadata": {},
   "outputs": [],
   "source": [
    "model = models.Word2Vec(sabdajanjal, min_count = 10, size = 100, window = 10)"
   ]
  },
  {
   "cell_type": "code",
   "execution_count": 70,
   "metadata": {},
   "outputs": [
    {
     "data": {
      "text/plain": [
       "[('कार्यकर्ता', 0.911784291267395),\n",
       " ('नेकपा', 0.9056674242019653),\n",
       " ('गुट', 0.9051246047019958),\n",
       " ('पार्टी', 0.8967639803886414),\n",
       " ('डेमोक्रेटिक', 0.8887830972671509),\n",
       " ('एमा', 0.8882259130477905),\n",
       " ('एकता', 0.8749210834503174),\n",
       " ('नेतृत्व', 0.8746997117996216),\n",
       " ('डीएलए', 0.8731291890144348),\n",
       " ('वामपन्थी', 0.8619285821914673)]"
      ]
     },
     "execution_count": 70,
     "metadata": {},
     "output_type": "execute_result"
    }
   ],
   "source": [
    "model.most_similar(\"नेता\")"
   ]
  },
  {
   "cell_type": "code",
   "execution_count": 71,
   "metadata": {},
   "outputs": [
    {
     "data": {
      "text/plain": [
       "[('ठेक्', 0.8705281615257263),\n",
       " ('पुनर्निर्माण', 0.8648045063018799),\n",
       " ('सम्पन्न', 0.8529106974601746),\n",
       " ('चक्रपथ', 0.8420369029045105),\n",
       " ('विस्तार', 0.8158335089683533),\n",
       " ('योजना', 0.8120008707046509),\n",
       " ('आयोजना', 0.8031393885612488),\n",
       " ('भवन', 0.8017610311508179),\n",
       " ('ठेकेदार', 0.7847588062286377),\n",
       " ('महानगर', 0.7732839584350586)]"
      ]
     },
     "execution_count": 71,
     "metadata": {},
     "output_type": "execute_result"
    }
   ],
   "source": [
    "model.most_similar(\"निर्माण\")"
   ]
  },
  {
   "cell_type": "code",
   "execution_count": null,
   "metadata": {},
   "outputs": [],
   "source": [
    "model.most_similar"
   ]
  }
 ],
 "metadata": {
  "kernelspec": {
   "display_name": "Python 3",
   "language": "python",
   "name": "python3"
  },
  "language_info": {
   "codemirror_mode": {
    "name": "ipython",
    "version": 3
   },
   "file_extension": ".py",
   "mimetype": "text/x-python",
   "name": "python",
   "nbconvert_exporter": "python",
   "pygments_lexer": "ipython3",
   "version": "3.7.1"
  }
 },
 "nbformat": 4,
 "nbformat_minor": 2
}
