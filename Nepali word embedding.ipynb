{
 "cells": [
  {
   "cell_type": "code",
   "execution_count": 1,
   "metadata": {},
   "outputs": [],
   "source": [
    "import warnings\n",
    "warnings.filterwarnings('ignore')"
   ]
  },
  {
   "cell_type": "code",
   "execution_count": 2,
   "metadata": {},
   "outputs": [],
   "source": [
    "from np_lang.stem.itrstem import IterativeStemmer\n",
    "from nltk.corpus import stopwords\n",
    "import pandas as pd\n",
    "from np_lang.tokenize.tokenizer import Tokenizer\n",
    "from gensim import models"
   ]
  },
  {
   "cell_type": "code",
   "execution_count": 3,
   "metadata": {},
   "outputs": [],
   "source": [
    "swNepali = stopwords.words(\"nepali\")\n",
    "nepali_stemmer = IterativeStemmer()"
   ]
  },
  {
   "cell_type": "code",
   "execution_count": 4,
   "metadata": {},
   "outputs": [],
   "source": [
    "df = pd.read_csv(\"data.csv\")\n",
    "df = df.dropna()\n",
    "title = df['News title'].values.tolist()\n",
    "article = df['News article'].values.tolist()\n",
    "corpus = title + article"
   ]
  },
  {
   "cell_type": "code",
   "execution_count": 5,
   "metadata": {},
   "outputs": [
    {
     "name": "stdout",
     "output_type": "stream",
     "text": [
      "[['ग्रिन', 'टी', 'उत्पादन', 'घट्यो'], ['जलेश्वर', 'नगरपालिका', 'झाडापखाला', 'प्रकोप', 'बालिका', 'मृत्यु'], ['निर्माण', 'व्यवसायी', 'कार्टेलिङ', 'अस्वीकार्यः', 'प्रधानमन्त्री'], ['मोरङ', 'अपराधिक', 'घटना', 'सूचना', 'संकलन', 'मोवाइल', 'एपबाटै'], ['सीके', 'राउत', 'छलफल', 'भयो', 'लाइन', 'मिलेनः', 'महन्थ', 'ठाकुर'], ['भ्रष्टाचारी', 'सिधै', 'सेवाग्राही', 'पैसा', 'लिन', 'छाडेः', 'नवीन', 'घिमिरे'], ['लाख', 'घुससहित', 'वीरगञ्ज', 'महानगर', 'अधिकृतसहित', 'तीनजना', 'पक्राउ'], ['बाचा', 'तोड्दै', 'साउदी', 'अरब', 'पुगे', 'पाकिस्तानी', 'प्रधानमन्त्री'], ['सुनसरी', 'गोली', 'प्रहार', 'शिक्षक', 'हत्या', 'प्रहरी', 'घाइते'], ['फिल्म', 'निर्माण', 'समीक्षाः', 'निर्देशक', 'ज्यू', 'नाई', 'नभन्नु', 'ल'], ['नागढुंगा-धुलिखेल', 'मेट्रो', 'सम्भाब्यता', 'अध्ययन', '६', 'कम्पनी', 'सर्ट', 'लिस्ट'], ['चिनी', 'आयात', 'अंकुशः', 'नियत', 'प्रभाव'], ['नेपाल', 'चीन', 'छुट्टिनै', 'नसकि', 'जोडिए', 'छन्ः', 'उपराष्टपति', 'पुन'], ['अख्तियार', 'प्रमुख', 'सिफारिस', 'घिमिरे', 'सुनुवाइ', 'आज'], ['जलेश्वर', 'कारागार', 'कैदी', 'उपचार', 'क्रम', 'मृत्यु'], ['कास्की', 'बन्', 'भाे', 'फुटबल', 'एकेडेमी', '९०', 'किशोर', 'आवासीय', 'प्रशिक्षण'], ['अन्तर्राष्ट्रिय', 'बी', 'सम्मेलन', 'तयारी', 'तीव्र', '२०', 'राष्ट्र', 'सहभागी'], ['लखेटी-लखेटी', 'महतो', 'हत्या', '५', 'जना', 'पक्राउ'], ['ढुवानीकर्ता', 'फेरि', 'बोक्न', 'छाडे', 'इन्धन', 'सम्झौता', 'रद्द', 'निगम', 'चेतावनी'], ['मुलुकी', 'संहिता', 'विरोध', 'सार्वजनिक', 'यातायात', 'हडताल']]\n"
     ]
    }
   ],
   "source": [
    "tokenized = [Tokenizer().word_tokenize(x) for x in corpus]\n",
    "sabdajanjal = list()\n",
    "for j in tokenized:\n",
    "    wakya = [nepali_stemmer.stem(x) for x in j if x not in swNepali]\n",
    "    sabdajanjal.append(wakya)\n",
    "print(sabdajanjal[0:20])"
   ]
  },
  {
   "cell_type": "code",
   "execution_count": 6,
   "metadata": {},
   "outputs": [],
   "source": [
    "model = models.Word2Vec(sabdajanjal, min_count = 10, size = 100, window = 10)"
   ]
  },
  {
   "cell_type": "code",
   "execution_count": 7,
   "metadata": {},
   "outputs": [
    {
     "data": {
      "text/plain": [
       "[('गुट', 0.9056971073150635),\n",
       " ('नेकपा', 0.9044898748397827),\n",
       " ('कार्यकर्ता', 0.8927933573722839),\n",
       " ('पार्टी', 0.8823525309562683),\n",
       " ('एमा', 0.8733591437339783),\n",
       " ('माधव', 0.8580765128135681),\n",
       " ('नेतृत्व', 0.8549600839614868),\n",
       " ('राजपा', 0.854684591293335),\n",
       " ('डीएलए', 0.8529224395751953),\n",
       " ('एकता', 0.8487255573272705)]"
      ]
     },
     "execution_count": 7,
     "metadata": {},
     "output_type": "execute_result"
    }
   ],
   "source": [
    "model.most_similar(\"नेता\")"
   ]
  },
  {
   "cell_type": "code",
   "execution_count": 8,
   "metadata": {},
   "outputs": [
    {
     "data": {
      "text/plain": [
       "[('ठेक्', 0.8816404938697815),\n",
       " ('सम्पन्न', 0.8741329312324524),\n",
       " ('पुनर्निर्माण', 0.8652876019477844),\n",
       " ('चक्रपथ', 0.8651217222213745),\n",
       " ('योजना', 0.836039125919342),\n",
       " ('विस्तार', 0.8291133046150208),\n",
       " ('भवन', 0.8266677856445312),\n",
       " ('आयोजना', 0.824515700340271),\n",
       " ('जलविद्युत', 0.8072643280029297),\n",
       " ('पिच', 0.7809836864471436)]"
      ]
     },
     "execution_count": 8,
     "metadata": {},
     "output_type": "execute_result"
    }
   ],
   "source": [
    "model.most_similar(\"निर्माण\")"
   ]
  },
  {
   "cell_type": "code",
   "execution_count": 9,
   "metadata": {},
   "outputs": [
    {
     "data": {
      "text/plain": [
       "[('विद्यालय', 0.8536533117294312),\n",
       " ('प्रधानाध्यापक', 0.8406020998954773),\n",
       " ('बालबालिका', 0.8353404402732849),\n",
       " ('दरबन्दी', 0.8198608756065369),\n",
       " ('समितिमार्फत', 0.7650095224380493),\n",
       " ('अपाङ्गता', 0.7629968523979187),\n",
       " ('गैरसरकारी', 0.7616969347000122),\n",
       " ('वञ्चित', 0.7568787336349487),\n",
       " ('विद्यार्थी', 0.7535626292228699),\n",
       " ('निःशुल्क', 0.7512091398239136)]"
      ]
     },
     "execution_count": 9,
     "metadata": {},
     "output_type": "execute_result"
    }
   ],
   "source": [
    "model.most_similar(\"शिक्षक\")"
   ]
  },
  {
   "cell_type": "code",
   "execution_count": null,
   "metadata": {},
   "outputs": [],
   "source": []
  }
 ],
 "metadata": {
  "kernelspec": {
   "display_name": "Python 3",
   "language": "python",
   "name": "python3"
  },
  "language_info": {
   "codemirror_mode": {
    "name": "ipython",
    "version": 3
   },
   "file_extension": ".py",
   "mimetype": "text/x-python",
   "name": "python",
   "nbconvert_exporter": "python",
   "pygments_lexer": "ipython3",
   "version": "3.7.1"
  }
 },
 "nbformat": 4,
 "nbformat_minor": 2
}
